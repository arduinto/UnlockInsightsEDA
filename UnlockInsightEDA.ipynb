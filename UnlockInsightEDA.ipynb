{
 "cells": [
  {
   "cell_type": "markdown",
   "metadata": {},
   "source": [
    "### Exploratory Data Analysis (EDA) & Problem Formulation"
   ]
  },
  {
   "cell_type": "markdown",
   "metadata": {},
   "source": [
    "##### __GOAL__\n",
    "The main task is to use historical data about a customer, which is collected month-by-month (like their spending habits, payment patterns, credit card balances, etc.) to estimate the likelihood that they will fail to repay what they owe on their credit card in the future.\n",
    "\n",
    "Here, the _\"target binary variable\"_ is what participants of the competition are trying to predict. It's binary because it has two possible values:\n",
    "* \"default\" (customer didn't pay), or\n",
    "* \"no default\" (customer paid).\n",
    "\n",
    "The way this target is determined is by watching the customer's behavior for 18 months after their most recent credit card statement. If, during those 18 months of observation, the customer fails to make a payment within 120 days (4 months) from the date of their last statement, they are marked as having defaulted on their credit card balance. So, even if they make a payment on the 121st day or anytime after, for the purposes of this competition, they're categorized as having defaulted.\n",
    "\n",
    "##### __Analysis of Credit Card Statements per Customer__\n",
    "1. A significant majority, precisely 80%, of our customers have 13 statements.\n",
    "2. The remaining 20% possess a varied number of statements, ranging from 1 to 12.\n",
    "\n",
    "__Insight__: The model cannot handle this variation in statement counts because it cannot handle different input sizes for each customer. An alternative approach to address this variability might be to consider only the latest statement or compute an average across all statements for each customer. Some machine learning models can indeed handle variable input sizes (like recurrent neural networks for sequences), while others require fixed-size inputs."
   ]
  },
  {
   "cell_type": "code",
   "execution_count": 11,
   "metadata": {},
   "outputs": [],
   "source": [
    "import pandas as pd\n",
    "import numpy as np\n",
    "from typing import Tuple, List\n",
    "\n",
    "import seaborn as sns\n",
    "\n",
    "import matplotlib.colors\n",
    "\n",
    "import matplotlib.pyplot as plt\n",
    "import matplotlib as mpl\n",
    "import plotly.graph_objects as go\n",
    "import plotly.figure_factory as ff\n",
    "from plotly.subplots import make_subplots\n",
    "import plotly.express as px\n",
    "from plotly.offline import init_notebook_mode, iplot\n",
    "from plotly.colors import n_colors\n",
    "import matplotlib.patches as mpatches"
   ]
  },
  {
   "cell_type": "code",
   "execution_count": 12,
   "metadata": {},
   "outputs": [],
   "source": [
    "train = pd.read_feather('./train_data.ftr')"
   ]
  },
  {
   "cell_type": "code",
   "execution_count": 13,
   "metadata": {},
   "outputs": [
    {
     "data": {
      "text/html": [
       "<div>\n",
       "<style scoped>\n",
       "    .dataframe tbody tr th:only-of-type {\n",
       "        vertical-align: middle;\n",
       "    }\n",
       "\n",
       "    .dataframe tbody tr th {\n",
       "        vertical-align: top;\n",
       "    }\n",
       "\n",
       "    .dataframe thead th {\n",
       "        text-align: right;\n",
       "    }\n",
       "</style>\n",
       "<table border=\"1\" class=\"dataframe\">\n",
       "  <thead>\n",
       "    <tr style=\"text-align: right;\">\n",
       "      <th></th>\n",
       "      <th>customer_ID</th>\n",
       "      <th>S_2</th>\n",
       "      <th>P_2</th>\n",
       "      <th>D_39</th>\n",
       "      <th>B_1</th>\n",
       "      <th>B_2</th>\n",
       "      <th>R_1</th>\n",
       "      <th>S_3</th>\n",
       "      <th>D_41</th>\n",
       "      <th>B_3</th>\n",
       "      <th>...</th>\n",
       "      <th>D_137</th>\n",
       "      <th>D_138</th>\n",
       "      <th>D_139</th>\n",
       "      <th>D_140</th>\n",
       "      <th>D_141</th>\n",
       "      <th>D_142</th>\n",
       "      <th>D_143</th>\n",
       "      <th>D_144</th>\n",
       "      <th>D_145</th>\n",
       "      <th>target</th>\n",
       "    </tr>\n",
       "  </thead>\n",
       "  <tbody>\n",
       "    <tr>\n",
       "      <th>0</th>\n",
       "      <td>0000099d6bd597052cdcda90ffabf56573fe9d7c79be5f...</td>\n",
       "      <td>2017-03-09</td>\n",
       "      <td>0.938477</td>\n",
       "      <td>0.001734</td>\n",
       "      <td>0.008728</td>\n",
       "      <td>1.006836</td>\n",
       "      <td>0.009224</td>\n",
       "      <td>0.124023</td>\n",
       "      <td>0.008774</td>\n",
       "      <td>0.004707</td>\n",
       "      <td>...</td>\n",
       "      <td>NaN</td>\n",
       "      <td>NaN</td>\n",
       "      <td>0.002426</td>\n",
       "      <td>0.003706</td>\n",
       "      <td>0.003819</td>\n",
       "      <td>NaN</td>\n",
       "      <td>0.000569</td>\n",
       "      <td>0.000610</td>\n",
       "      <td>0.002674</td>\n",
       "      <td>0</td>\n",
       "    </tr>\n",
       "    <tr>\n",
       "      <th>1</th>\n",
       "      <td>0000099d6bd597052cdcda90ffabf56573fe9d7c79be5f...</td>\n",
       "      <td>2017-04-07</td>\n",
       "      <td>0.936523</td>\n",
       "      <td>0.005775</td>\n",
       "      <td>0.004925</td>\n",
       "      <td>1.000977</td>\n",
       "      <td>0.006153</td>\n",
       "      <td>0.126709</td>\n",
       "      <td>0.000798</td>\n",
       "      <td>0.002714</td>\n",
       "      <td>...</td>\n",
       "      <td>NaN</td>\n",
       "      <td>NaN</td>\n",
       "      <td>0.003956</td>\n",
       "      <td>0.003166</td>\n",
       "      <td>0.005032</td>\n",
       "      <td>NaN</td>\n",
       "      <td>0.009575</td>\n",
       "      <td>0.005493</td>\n",
       "      <td>0.009216</td>\n",
       "      <td>0</td>\n",
       "    </tr>\n",
       "    <tr>\n",
       "      <th>2</th>\n",
       "      <td>0000099d6bd597052cdcda90ffabf56573fe9d7c79be5f...</td>\n",
       "      <td>2017-05-28</td>\n",
       "      <td>0.954102</td>\n",
       "      <td>0.091492</td>\n",
       "      <td>0.021652</td>\n",
       "      <td>1.009766</td>\n",
       "      <td>0.006817</td>\n",
       "      <td>0.123962</td>\n",
       "      <td>0.007599</td>\n",
       "      <td>0.009422</td>\n",
       "      <td>...</td>\n",
       "      <td>NaN</td>\n",
       "      <td>NaN</td>\n",
       "      <td>0.003269</td>\n",
       "      <td>0.007328</td>\n",
       "      <td>0.000427</td>\n",
       "      <td>NaN</td>\n",
       "      <td>0.003429</td>\n",
       "      <td>0.006985</td>\n",
       "      <td>0.002604</td>\n",
       "      <td>0</td>\n",
       "    </tr>\n",
       "    <tr>\n",
       "      <th>3</th>\n",
       "      <td>0000099d6bd597052cdcda90ffabf56573fe9d7c79be5f...</td>\n",
       "      <td>2017-06-13</td>\n",
       "      <td>0.960449</td>\n",
       "      <td>0.002455</td>\n",
       "      <td>0.013687</td>\n",
       "      <td>1.002930</td>\n",
       "      <td>0.001372</td>\n",
       "      <td>0.117188</td>\n",
       "      <td>0.000685</td>\n",
       "      <td>0.005531</td>\n",
       "      <td>...</td>\n",
       "      <td>NaN</td>\n",
       "      <td>NaN</td>\n",
       "      <td>0.006119</td>\n",
       "      <td>0.004517</td>\n",
       "      <td>0.003201</td>\n",
       "      <td>NaN</td>\n",
       "      <td>0.008423</td>\n",
       "      <td>0.006527</td>\n",
       "      <td>0.009598</td>\n",
       "      <td>0</td>\n",
       "    </tr>\n",
       "    <tr>\n",
       "      <th>4</th>\n",
       "      <td>0000099d6bd597052cdcda90ffabf56573fe9d7c79be5f...</td>\n",
       "      <td>2017-07-16</td>\n",
       "      <td>0.947266</td>\n",
       "      <td>0.002483</td>\n",
       "      <td>0.015190</td>\n",
       "      <td>1.000977</td>\n",
       "      <td>0.007607</td>\n",
       "      <td>0.117310</td>\n",
       "      <td>0.004654</td>\n",
       "      <td>0.009308</td>\n",
       "      <td>...</td>\n",
       "      <td>NaN</td>\n",
       "      <td>NaN</td>\n",
       "      <td>0.003672</td>\n",
       "      <td>0.004944</td>\n",
       "      <td>0.008888</td>\n",
       "      <td>NaN</td>\n",
       "      <td>0.001670</td>\n",
       "      <td>0.008125</td>\n",
       "      <td>0.009827</td>\n",
       "      <td>0</td>\n",
       "    </tr>\n",
       "    <tr>\n",
       "      <th>...</th>\n",
       "      <td>...</td>\n",
       "      <td>...</td>\n",
       "      <td>...</td>\n",
       "      <td>...</td>\n",
       "      <td>...</td>\n",
       "      <td>...</td>\n",
       "      <td>...</td>\n",
       "      <td>...</td>\n",
       "      <td>...</td>\n",
       "      <td>...</td>\n",
       "      <td>...</td>\n",
       "      <td>...</td>\n",
       "      <td>...</td>\n",
       "      <td>...</td>\n",
       "      <td>...</td>\n",
       "      <td>...</td>\n",
       "      <td>...</td>\n",
       "      <td>...</td>\n",
       "      <td>...</td>\n",
       "      <td>...</td>\n",
       "      <td>...</td>\n",
       "    </tr>\n",
       "    <tr>\n",
       "      <th>5531446</th>\n",
       "      <td>fffff1d38b785cef84adeace64f8f83db3a0c31e8d92ea...</td>\n",
       "      <td>2017-11-05</td>\n",
       "      <td>0.979492</td>\n",
       "      <td>0.416016</td>\n",
       "      <td>0.020813</td>\n",
       "      <td>0.828125</td>\n",
       "      <td>0.003487</td>\n",
       "      <td>0.090759</td>\n",
       "      <td>0.005341</td>\n",
       "      <td>0.025146</td>\n",
       "      <td>...</td>\n",
       "      <td>NaN</td>\n",
       "      <td>NaN</td>\n",
       "      <td>0.006836</td>\n",
       "      <td>0.003679</td>\n",
       "      <td>0.000457</td>\n",
       "      <td>NaN</td>\n",
       "      <td>0.000906</td>\n",
       "      <td>0.001497</td>\n",
       "      <td>0.002775</td>\n",
       "      <td>0</td>\n",
       "    </tr>\n",
       "    <tr>\n",
       "      <th>5531447</th>\n",
       "      <td>fffff1d38b785cef84adeace64f8f83db3a0c31e8d92ea...</td>\n",
       "      <td>2017-12-23</td>\n",
       "      <td>0.984863</td>\n",
       "      <td>0.296631</td>\n",
       "      <td>0.007210</td>\n",
       "      <td>0.812500</td>\n",
       "      <td>0.005905</td>\n",
       "      <td>0.079895</td>\n",
       "      <td>0.002243</td>\n",
       "      <td>0.023697</td>\n",
       "      <td>...</td>\n",
       "      <td>NaN</td>\n",
       "      <td>NaN</td>\n",
       "      <td>0.003309</td>\n",
       "      <td>0.007095</td>\n",
       "      <td>0.007858</td>\n",
       "      <td>NaN</td>\n",
       "      <td>0.002777</td>\n",
       "      <td>0.008224</td>\n",
       "      <td>0.008858</td>\n",
       "      <td>0</td>\n",
       "    </tr>\n",
       "    <tr>\n",
       "      <th>5531448</th>\n",
       "      <td>fffff1d38b785cef84adeace64f8f83db3a0c31e8d92ea...</td>\n",
       "      <td>2018-01-06</td>\n",
       "      <td>0.982910</td>\n",
       "      <td>0.444092</td>\n",
       "      <td>0.013153</td>\n",
       "      <td>0.815430</td>\n",
       "      <td>0.003456</td>\n",
       "      <td>0.100525</td>\n",
       "      <td>0.002111</td>\n",
       "      <td>0.012344</td>\n",
       "      <td>...</td>\n",
       "      <td>NaN</td>\n",
       "      <td>NaN</td>\n",
       "      <td>0.009956</td>\n",
       "      <td>0.009995</td>\n",
       "      <td>0.001088</td>\n",
       "      <td>NaN</td>\n",
       "      <td>0.005692</td>\n",
       "      <td>0.006775</td>\n",
       "      <td>0.005566</td>\n",
       "      <td>0</td>\n",
       "    </tr>\n",
       "    <tr>\n",
       "      <th>5531449</th>\n",
       "      <td>fffff1d38b785cef84adeace64f8f83db3a0c31e8d92ea...</td>\n",
       "      <td>2018-02-06</td>\n",
       "      <td>0.969727</td>\n",
       "      <td>0.442627</td>\n",
       "      <td>0.009857</td>\n",
       "      <td>1.003906</td>\n",
       "      <td>0.005116</td>\n",
       "      <td>0.101807</td>\n",
       "      <td>0.009933</td>\n",
       "      <td>0.008575</td>\n",
       "      <td>...</td>\n",
       "      <td>NaN</td>\n",
       "      <td>NaN</td>\n",
       "      <td>0.005543</td>\n",
       "      <td>0.006565</td>\n",
       "      <td>0.009880</td>\n",
       "      <td>NaN</td>\n",
       "      <td>0.008125</td>\n",
       "      <td>0.001168</td>\n",
       "      <td>0.003983</td>\n",
       "      <td>0</td>\n",
       "    </tr>\n",
       "    <tr>\n",
       "      <th>5531450</th>\n",
       "      <td>fffff1d38b785cef84adeace64f8f83db3a0c31e8d92ea...</td>\n",
       "      <td>2018-03-14</td>\n",
       "      <td>0.981934</td>\n",
       "      <td>0.002474</td>\n",
       "      <td>0.000077</td>\n",
       "      <td>0.992676</td>\n",
       "      <td>0.000809</td>\n",
       "      <td>0.119141</td>\n",
       "      <td>0.003286</td>\n",
       "      <td>0.014091</td>\n",
       "      <td>...</td>\n",
       "      <td>NaN</td>\n",
       "      <td>NaN</td>\n",
       "      <td>0.007317</td>\n",
       "      <td>0.002888</td>\n",
       "      <td>0.006207</td>\n",
       "      <td>NaN</td>\n",
       "      <td>0.005112</td>\n",
       "      <td>0.003183</td>\n",
       "      <td>0.001914</td>\n",
       "      <td>0</td>\n",
       "    </tr>\n",
       "  </tbody>\n",
       "</table>\n",
       "<p>5531451 rows × 191 columns</p>\n",
       "</div>"
      ],
      "text/plain": [
       "                                               customer_ID        S_2  \\\n",
       "0        0000099d6bd597052cdcda90ffabf56573fe9d7c79be5f... 2017-03-09   \n",
       "1        0000099d6bd597052cdcda90ffabf56573fe9d7c79be5f... 2017-04-07   \n",
       "2        0000099d6bd597052cdcda90ffabf56573fe9d7c79be5f... 2017-05-28   \n",
       "3        0000099d6bd597052cdcda90ffabf56573fe9d7c79be5f... 2017-06-13   \n",
       "4        0000099d6bd597052cdcda90ffabf56573fe9d7c79be5f... 2017-07-16   \n",
       "...                                                    ...        ...   \n",
       "5531446  fffff1d38b785cef84adeace64f8f83db3a0c31e8d92ea... 2017-11-05   \n",
       "5531447  fffff1d38b785cef84adeace64f8f83db3a0c31e8d92ea... 2017-12-23   \n",
       "5531448  fffff1d38b785cef84adeace64f8f83db3a0c31e8d92ea... 2018-01-06   \n",
       "5531449  fffff1d38b785cef84adeace64f8f83db3a0c31e8d92ea... 2018-02-06   \n",
       "5531450  fffff1d38b785cef84adeace64f8f83db3a0c31e8d92ea... 2018-03-14   \n",
       "\n",
       "              P_2      D_39       B_1       B_2       R_1       S_3      D_41  \\\n",
       "0        0.938477  0.001734  0.008728  1.006836  0.009224  0.124023  0.008774   \n",
       "1        0.936523  0.005775  0.004925  1.000977  0.006153  0.126709  0.000798   \n",
       "2        0.954102  0.091492  0.021652  1.009766  0.006817  0.123962  0.007599   \n",
       "3        0.960449  0.002455  0.013687  1.002930  0.001372  0.117188  0.000685   \n",
       "4        0.947266  0.002483  0.015190  1.000977  0.007607  0.117310  0.004654   \n",
       "...           ...       ...       ...       ...       ...       ...       ...   \n",
       "5531446  0.979492  0.416016  0.020813  0.828125  0.003487  0.090759  0.005341   \n",
       "5531447  0.984863  0.296631  0.007210  0.812500  0.005905  0.079895  0.002243   \n",
       "5531448  0.982910  0.444092  0.013153  0.815430  0.003456  0.100525  0.002111   \n",
       "5531449  0.969727  0.442627  0.009857  1.003906  0.005116  0.101807  0.009933   \n",
       "5531450  0.981934  0.002474  0.000077  0.992676  0.000809  0.119141  0.003286   \n",
       "\n",
       "              B_3  ...  D_137  D_138     D_139     D_140     D_141  D_142  \\\n",
       "0        0.004707  ...    NaN    NaN  0.002426  0.003706  0.003819    NaN   \n",
       "1        0.002714  ...    NaN    NaN  0.003956  0.003166  0.005032    NaN   \n",
       "2        0.009422  ...    NaN    NaN  0.003269  0.007328  0.000427    NaN   \n",
       "3        0.005531  ...    NaN    NaN  0.006119  0.004517  0.003201    NaN   \n",
       "4        0.009308  ...    NaN    NaN  0.003672  0.004944  0.008888    NaN   \n",
       "...           ...  ...    ...    ...       ...       ...       ...    ...   \n",
       "5531446  0.025146  ...    NaN    NaN  0.006836  0.003679  0.000457    NaN   \n",
       "5531447  0.023697  ...    NaN    NaN  0.003309  0.007095  0.007858    NaN   \n",
       "5531448  0.012344  ...    NaN    NaN  0.009956  0.009995  0.001088    NaN   \n",
       "5531449  0.008575  ...    NaN    NaN  0.005543  0.006565  0.009880    NaN   \n",
       "5531450  0.014091  ...    NaN    NaN  0.007317  0.002888  0.006207    NaN   \n",
       "\n",
       "            D_143     D_144     D_145  target  \n",
       "0        0.000569  0.000610  0.002674       0  \n",
       "1        0.009575  0.005493  0.009216       0  \n",
       "2        0.003429  0.006985  0.002604       0  \n",
       "3        0.008423  0.006527  0.009598       0  \n",
       "4        0.001670  0.008125  0.009827       0  \n",
       "...           ...       ...       ...     ...  \n",
       "5531446  0.000906  0.001497  0.002775       0  \n",
       "5531447  0.002777  0.008224  0.008858       0  \n",
       "5531448  0.005692  0.006775  0.005566       0  \n",
       "5531449  0.008125  0.001168  0.003983       0  \n",
       "5531450  0.005112  0.003183  0.001914       0  \n",
       "\n",
       "[5531451 rows x 191 columns]"
      ]
     },
     "execution_count": 13,
     "metadata": {},
     "output_type": "execute_result"
    }
   ],
   "source": [
    "train"
   ]
  },
  {
   "cell_type": "code",
   "execution_count": 14,
   "metadata": {},
   "outputs": [
    {
     "data": {
      "text/html": [
       "<style type=\"text/css\">\n",
       "#T_48365_row0_col1, #T_48365_row0_col2 {\n",
       "  background-color: #800026;\n",
       "  color: #f1f1f1;\n",
       "}\n",
       "#T_48365_row1_col1, #T_48365_row1_col2 {\n",
       "  background-color: #fffdc8;\n",
       "  color: #000000;\n",
       "}\n",
       "#T_48365_row2_col1, #T_48365_row2_col2, #T_48365_row5_col1, #T_48365_row5_col2, #T_48365_row6_col1, #T_48365_row6_col2, #T_48365_row7_col1, #T_48365_row7_col2, #T_48365_row8_col1, #T_48365_row8_col2, #T_48365_row9_col1, #T_48365_row9_col2, #T_48365_row10_col1, #T_48365_row10_col2, #T_48365_row11_col1, #T_48365_row11_col2, #T_48365_row12_col1, #T_48365_row12_col2 {\n",
       "  background-color: #ffffcc;\n",
       "  color: #000000;\n",
       "}\n",
       "#T_48365_row3_col1, #T_48365_row3_col2, #T_48365_row4_col1, #T_48365_row4_col2 {\n",
       "  background-color: #fffecb;\n",
       "  color: #000000;\n",
       "}\n",
       "</style>\n",
       "<table id=\"T_48365\">\n",
       "  <thead>\n",
       "    <tr>\n",
       "      <th class=\"blank level0\" >&nbsp;</th>\n",
       "      <th id=\"T_48365_level0_col0\" class=\"col_heading level0 col0\" >Nbr of Statements per customer</th>\n",
       "      <th id=\"T_48365_level0_col1\" class=\"col_heading level0 col1\" >Nbr of customers</th>\n",
       "      <th id=\"T_48365_level0_col2\" class=\"col_heading level0 col2\" >% of customers</th>\n",
       "    </tr>\n",
       "  </thead>\n",
       "  <tbody>\n",
       "    <tr>\n",
       "      <th id=\"T_48365_level0_row0\" class=\"row_heading level0 row0\" >0</th>\n",
       "      <td id=\"T_48365_row0_col0\" class=\"data row0 col0\" >13</td>\n",
       "      <td id=\"T_48365_row0_col1\" class=\"data row0 col1\" >386034</td>\n",
       "      <td id=\"T_48365_row0_col2\" class=\"data row0 col2\" >84.120000</td>\n",
       "    </tr>\n",
       "    <tr>\n",
       "      <th id=\"T_48365_level0_row1\" class=\"row_heading level0 row1\" >1</th>\n",
       "      <td id=\"T_48365_row1_col0\" class=\"data row1 col0\" >12</td>\n",
       "      <td id=\"T_48365_row1_col1\" class=\"data row1 col1\" >10623</td>\n",
       "      <td id=\"T_48365_row1_col2\" class=\"data row1 col2\" >2.310000</td>\n",
       "    </tr>\n",
       "    <tr>\n",
       "      <th id=\"T_48365_level0_row2\" class=\"row_heading level0 row2\" >2</th>\n",
       "      <td id=\"T_48365_row2_col0\" class=\"data row2 col0\" >11</td>\n",
       "      <td id=\"T_48365_row2_col1\" class=\"data row2 col1\" >5961</td>\n",
       "      <td id=\"T_48365_row2_col2\" class=\"data row2 col2\" >1.300000</td>\n",
       "    </tr>\n",
       "    <tr>\n",
       "      <th id=\"T_48365_level0_row3\" class=\"row_heading level0 row3\" >3</th>\n",
       "      <td id=\"T_48365_row3_col0\" class=\"data row3 col0\" >10</td>\n",
       "      <td id=\"T_48365_row3_col1\" class=\"data row3 col1\" >6721</td>\n",
       "      <td id=\"T_48365_row3_col2\" class=\"data row3 col2\" >1.460000</td>\n",
       "    </tr>\n",
       "    <tr>\n",
       "      <th id=\"T_48365_level0_row4\" class=\"row_heading level0 row4\" >4</th>\n",
       "      <td id=\"T_48365_row4_col0\" class=\"data row4 col0\" >9</td>\n",
       "      <td id=\"T_48365_row4_col1\" class=\"data row4 col1\" >6411</td>\n",
       "      <td id=\"T_48365_row4_col2\" class=\"data row4 col2\" >1.400000</td>\n",
       "    </tr>\n",
       "    <tr>\n",
       "      <th id=\"T_48365_level0_row5\" class=\"row_heading level0 row5\" >5</th>\n",
       "      <td id=\"T_48365_row5_col0\" class=\"data row5 col0\" >8</td>\n",
       "      <td id=\"T_48365_row5_col1\" class=\"data row5 col1\" >6110</td>\n",
       "      <td id=\"T_48365_row5_col2\" class=\"data row5 col2\" >1.330000</td>\n",
       "    </tr>\n",
       "    <tr>\n",
       "      <th id=\"T_48365_level0_row6\" class=\"row_heading level0 row6\" >6</th>\n",
       "      <td id=\"T_48365_row6_col0\" class=\"data row6 col0\" >7</td>\n",
       "      <td id=\"T_48365_row6_col1\" class=\"data row6 col1\" >5198</td>\n",
       "      <td id=\"T_48365_row6_col2\" class=\"data row6 col2\" >1.130000</td>\n",
       "    </tr>\n",
       "    <tr>\n",
       "      <th id=\"T_48365_level0_row7\" class=\"row_heading level0 row7\" >7</th>\n",
       "      <td id=\"T_48365_row7_col0\" class=\"data row7 col0\" >6</td>\n",
       "      <td id=\"T_48365_row7_col1\" class=\"data row7 col1\" >5515</td>\n",
       "      <td id=\"T_48365_row7_col2\" class=\"data row7 col2\" >1.200000</td>\n",
       "    </tr>\n",
       "    <tr>\n",
       "      <th id=\"T_48365_level0_row8\" class=\"row_heading level0 row8\" >8</th>\n",
       "      <td id=\"T_48365_row8_col0\" class=\"data row8 col0\" >5</td>\n",
       "      <td id=\"T_48365_row8_col1\" class=\"data row8 col1\" >4671</td>\n",
       "      <td id=\"T_48365_row8_col2\" class=\"data row8 col2\" >1.020000</td>\n",
       "    </tr>\n",
       "    <tr>\n",
       "      <th id=\"T_48365_level0_row9\" class=\"row_heading level0 row9\" >9</th>\n",
       "      <td id=\"T_48365_row9_col0\" class=\"data row9 col0\" >4</td>\n",
       "      <td id=\"T_48365_row9_col1\" class=\"data row9 col1\" >4673</td>\n",
       "      <td id=\"T_48365_row9_col2\" class=\"data row9 col2\" >1.020000</td>\n",
       "    </tr>\n",
       "    <tr>\n",
       "      <th id=\"T_48365_level0_row10\" class=\"row_heading level0 row10\" >10</th>\n",
       "      <td id=\"T_48365_row10_col0\" class=\"data row10 col0\" >3</td>\n",
       "      <td id=\"T_48365_row10_col1\" class=\"data row10 col1\" >5778</td>\n",
       "      <td id=\"T_48365_row10_col2\" class=\"data row10 col2\" >1.260000</td>\n",
       "    </tr>\n",
       "    <tr>\n",
       "      <th id=\"T_48365_level0_row11\" class=\"row_heading level0 row11\" >11</th>\n",
       "      <td id=\"T_48365_row11_col0\" class=\"data row11 col0\" >2</td>\n",
       "      <td id=\"T_48365_row11_col1\" class=\"data row11 col1\" >6098</td>\n",
       "      <td id=\"T_48365_row11_col2\" class=\"data row11 col2\" >1.330000</td>\n",
       "    </tr>\n",
       "    <tr>\n",
       "      <th id=\"T_48365_level0_row12\" class=\"row_heading level0 row12\" >12</th>\n",
       "      <td id=\"T_48365_row12_col0\" class=\"data row12 col0\" >1</td>\n",
       "      <td id=\"T_48365_row12_col1\" class=\"data row12 col1\" >5120</td>\n",
       "      <td id=\"T_48365_row12_col2\" class=\"data row12 col2\" >1.120000</td>\n",
       "    </tr>\n",
       "  </tbody>\n",
       "</table>\n"
      ],
      "text/plain": [
       "<pandas.io.formats.style.Styler at 0x2c5e6254310>"
      ]
     },
     "execution_count": 14,
     "metadata": {},
     "output_type": "execute_result"
    }
   ],
   "source": [
    "# Menghitung jumlah pelanggan unik\n",
    "nbr_customers = train[\"customer_ID\"].nunique()\n",
    "\n",
    "# Menghitung frekuensi kemunculan customer_ID dan mengelompokkannya berdasarkan jumlah pernyataan\n",
    "statements_count = train[\"customer_ID\"].value_counts().reset_index()\n",
    "statements_count.columns = [\"customer_ID\", \"Nbr of Statements per customer\"]\n",
    "\n",
    "# Menghitung jumlah pelanggan untuk setiap jumlah pernyataan\n",
    "statements_df = statements_count[\"Nbr of Statements per customer\"].value_counts().sort_index(ascending=False).reset_index()\n",
    "statements_df.columns = [\"Nbr of Statements per customer\", \"Nbr of customers\"]\n",
    "\n",
    "# Menghitung persentase pelanggan\n",
    "statements_df[\"% of customers\"] = np.round((statements_df[\"Nbr of customers\"] / nbr_customers) * 100, 2)\n",
    "\n",
    "# Menyajikan output dalam format yang diinginkan\n",
    "statements_df = statements_df.sort_values(by=\"Nbr of Statements per customer\", ascending=False)\n",
    "statements_df.reset_index(drop=True, inplace=True)\n",
    "\n",
    "# Menampilkan output dengan style background gradient\n",
    "statements_df.style.background_gradient(axis=0, cmap='YlOrRd', subset=[\"Nbr of customers\", \"% of customers\"])"
   ]
  },
  {
   "cell_type": "code",
   "execution_count": 15,
   "metadata": {},
   "outputs": [],
   "source": [
    "\"\"\"\n",
    "Returns a Series giving the count of null values in each column of the DataFrame.\n",
    "It's a handy way to quickly check if your data has any missing values and how many there are in each column.\n",
    "\"\"\"\n",
    "\n",
    "missing_values = train.isnull().sum()\n",
    "\n",
    "\"\"\"\n",
    "# It converts the Series to a DataFrame using .to_frame().\n",
    "# Then, it resets the index of the DataFrame so that the original index (which was the column names from the DataFrame) becomes a column in the DataFrame, and a new numerical index is created using .reset_index().\n",
    "# Finally, it sorts the DataFrame by the \"Number of null values\" column in descending order (so the column with the most missing values will be at the top)\n",
    "\"\"\"\n",
    "\n",
    "missing_values_df = missing_values.to_frame().reset_index().rename(\n",
    "    columns={\n",
    "        'index':'Feature',\n",
    "        0:'Number of Missing Values'\n",
    "}).sort_values(by=['Number of Missing Values'], ascending=False).reset_index(drop=True)\n",
    "missing_values_df['% Missing Values'] = np.round((missing_values_df['Number of Missing Values'] / train.shape[0]) *100,2)"
   ]
  },
  {
   "cell_type": "code",
   "execution_count": 16,
   "metadata": {},
   "outputs": [
    {
     "name": "stdout",
     "output_type": "stream",
     "text": [
      "18 out of 191,\n",
      "(9.42%), features in the dataset have missing values in more than 89% of their rows\n"
     ]
    }
   ],
   "source": [
    "print(f\"{missing_values_df[ missing_values_df['% Missing Values'] > 89].shape[0]} out of {missing_values_df.shape[0]},\")\n",
    "print(f\"({np.round((missing_values_df[missing_values_df['% Missing Values'] > 89].shape[0] / missing_values_df.shape[0]) * 100, 2)}%), features in the dataset have missing values in more than 89% of their rows\")"
   ]
  },
  {
   "cell_type": "markdown",
   "metadata": {},
   "source": [
    "__Insights:__\n",
    "* There are many columns with missing values: Dropping all columns which have missing values is not a sensible strategy.\n",
    "* There are many rows with missing values: Dropping all rows which have missing values is not a sensible strategy.\n",
    "* Many decision-tree based algorithms can deal with missing values. If we choose such a model, we don't need to change the missing values. Neural networks and other estimators cannot deal with missing values. If we choose such a model, we need to impute values."
   ]
  },
  {
   "cell_type": "code",
   "execution_count": 17,
   "metadata": {},
   "outputs": [],
   "source": [
    "train = train.groupby(['customer_ID']).tail(1).set_index('customer_ID')"
   ]
  },
  {
   "cell_type": "code",
   "execution_count": 18,
   "metadata": {},
   "outputs": [
    {
     "data": {
      "application/vnd.plotly.v1+json": {
       "config": {
        "plotlyServerURL": "https://plot.ly"
       },
       "data": [
        {
         "hovertemplate": "",
         "line": {
          "color": "red",
          "width": 3
         },
         "mode": "markers+lines",
         "type": "scatter",
         "x": [
          "2018-03-01T00:00:00",
          "2018-03-02T00:00:00",
          "2018-03-03T00:00:00",
          "2018-03-04T00:00:00",
          "2018-03-05T00:00:00",
          "2018-03-06T00:00:00",
          "2018-03-07T00:00:00",
          "2018-03-08T00:00:00",
          "2018-03-09T00:00:00",
          "2018-03-10T00:00:00",
          "2018-03-11T00:00:00",
          "2018-03-12T00:00:00",
          "2018-03-13T00:00:00",
          "2018-03-14T00:00:00",
          "2018-03-15T00:00:00",
          "2018-03-16T00:00:00",
          "2018-03-17T00:00:00",
          "2018-03-18T00:00:00",
          "2018-03-19T00:00:00",
          "2018-03-20T00:00:00",
          "2018-03-21T00:00:00",
          "2018-03-22T00:00:00",
          "2018-03-23T00:00:00",
          "2018-03-24T00:00:00",
          "2018-03-25T00:00:00",
          "2018-03-26T00:00:00",
          "2018-03-27T00:00:00",
          "2018-03-28T00:00:00",
          "2018-03-29T00:00:00",
          "2018-03-30T00:00:00",
          "2018-03-31T00:00:00"
         ],
         "y": [
          12128,
          10562,
          22887,
          8918,
          10081,
          9736,
          9097,
          15581,
          15737,
          21547,
          8643,
          15916,
          15737,
          15172,
          16733,
          16395,
          23373,
          8554,
          16385,
          18567,
          16478,
          14146,
          16325,
          21156,
          8856,
          15940,
          15457,
          17263,
          14414,
          17293,
          9836
         ]
        }
       ],
       "layout": {
        "font": {
         "color": "#7b6b59"
        },
        "height": 500,
        "hovermode": "x unified",
        "plot_bgcolor": "#fff",
        "template": {
         "data": {
          "bar": [
           {
            "error_x": {
             "color": "#2a3f5f"
            },
            "error_y": {
             "color": "#2a3f5f"
            },
            "marker": {
             "line": {
              "color": "#E5ECF6",
              "width": 0.5
             },
             "pattern": {
              "fillmode": "overlay",
              "size": 10,
              "solidity": 0.2
             }
            },
            "type": "bar"
           }
          ],
          "barpolar": [
           {
            "marker": {
             "line": {
              "color": "#E5ECF6",
              "width": 0.5
             },
             "pattern": {
              "fillmode": "overlay",
              "size": 10,
              "solidity": 0.2
             }
            },
            "type": "barpolar"
           }
          ],
          "carpet": [
           {
            "aaxis": {
             "endlinecolor": "#2a3f5f",
             "gridcolor": "white",
             "linecolor": "white",
             "minorgridcolor": "white",
             "startlinecolor": "#2a3f5f"
            },
            "baxis": {
             "endlinecolor": "#2a3f5f",
             "gridcolor": "white",
             "linecolor": "white",
             "minorgridcolor": "white",
             "startlinecolor": "#2a3f5f"
            },
            "type": "carpet"
           }
          ],
          "choropleth": [
           {
            "colorbar": {
             "outlinewidth": 0,
             "ticks": ""
            },
            "type": "choropleth"
           }
          ],
          "contour": [
           {
            "colorbar": {
             "outlinewidth": 0,
             "ticks": ""
            },
            "colorscale": [
             [
              0,
              "#0d0887"
             ],
             [
              0.1111111111111111,
              "#46039f"
             ],
             [
              0.2222222222222222,
              "#7201a8"
             ],
             [
              0.3333333333333333,
              "#9c179e"
             ],
             [
              0.4444444444444444,
              "#bd3786"
             ],
             [
              0.5555555555555556,
              "#d8576b"
             ],
             [
              0.6666666666666666,
              "#ed7953"
             ],
             [
              0.7777777777777778,
              "#fb9f3a"
             ],
             [
              0.8888888888888888,
              "#fdca26"
             ],
             [
              1,
              "#f0f921"
             ]
            ],
            "type": "contour"
           }
          ],
          "contourcarpet": [
           {
            "colorbar": {
             "outlinewidth": 0,
             "ticks": ""
            },
            "type": "contourcarpet"
           }
          ],
          "heatmap": [
           {
            "colorbar": {
             "outlinewidth": 0,
             "ticks": ""
            },
            "colorscale": [
             [
              0,
              "#0d0887"
             ],
             [
              0.1111111111111111,
              "#46039f"
             ],
             [
              0.2222222222222222,
              "#7201a8"
             ],
             [
              0.3333333333333333,
              "#9c179e"
             ],
             [
              0.4444444444444444,
              "#bd3786"
             ],
             [
              0.5555555555555556,
              "#d8576b"
             ],
             [
              0.6666666666666666,
              "#ed7953"
             ],
             [
              0.7777777777777778,
              "#fb9f3a"
             ],
             [
              0.8888888888888888,
              "#fdca26"
             ],
             [
              1,
              "#f0f921"
             ]
            ],
            "type": "heatmap"
           }
          ],
          "heatmapgl": [
           {
            "colorbar": {
             "outlinewidth": 0,
             "ticks": ""
            },
            "colorscale": [
             [
              0,
              "#0d0887"
             ],
             [
              0.1111111111111111,
              "#46039f"
             ],
             [
              0.2222222222222222,
              "#7201a8"
             ],
             [
              0.3333333333333333,
              "#9c179e"
             ],
             [
              0.4444444444444444,
              "#bd3786"
             ],
             [
              0.5555555555555556,
              "#d8576b"
             ],
             [
              0.6666666666666666,
              "#ed7953"
             ],
             [
              0.7777777777777778,
              "#fb9f3a"
             ],
             [
              0.8888888888888888,
              "#fdca26"
             ],
             [
              1,
              "#f0f921"
             ]
            ],
            "type": "heatmapgl"
           }
          ],
          "histogram": [
           {
            "marker": {
             "pattern": {
              "fillmode": "overlay",
              "size": 10,
              "solidity": 0.2
             }
            },
            "type": "histogram"
           }
          ],
          "histogram2d": [
           {
            "colorbar": {
             "outlinewidth": 0,
             "ticks": ""
            },
            "colorscale": [
             [
              0,
              "#0d0887"
             ],
             [
              0.1111111111111111,
              "#46039f"
             ],
             [
              0.2222222222222222,
              "#7201a8"
             ],
             [
              0.3333333333333333,
              "#9c179e"
             ],
             [
              0.4444444444444444,
              "#bd3786"
             ],
             [
              0.5555555555555556,
              "#d8576b"
             ],
             [
              0.6666666666666666,
              "#ed7953"
             ],
             [
              0.7777777777777778,
              "#fb9f3a"
             ],
             [
              0.8888888888888888,
              "#fdca26"
             ],
             [
              1,
              "#f0f921"
             ]
            ],
            "type": "histogram2d"
           }
          ],
          "histogram2dcontour": [
           {
            "colorbar": {
             "outlinewidth": 0,
             "ticks": ""
            },
            "colorscale": [
             [
              0,
              "#0d0887"
             ],
             [
              0.1111111111111111,
              "#46039f"
             ],
             [
              0.2222222222222222,
              "#7201a8"
             ],
             [
              0.3333333333333333,
              "#9c179e"
             ],
             [
              0.4444444444444444,
              "#bd3786"
             ],
             [
              0.5555555555555556,
              "#d8576b"
             ],
             [
              0.6666666666666666,
              "#ed7953"
             ],
             [
              0.7777777777777778,
              "#fb9f3a"
             ],
             [
              0.8888888888888888,
              "#fdca26"
             ],
             [
              1,
              "#f0f921"
             ]
            ],
            "type": "histogram2dcontour"
           }
          ],
          "mesh3d": [
           {
            "colorbar": {
             "outlinewidth": 0,
             "ticks": ""
            },
            "type": "mesh3d"
           }
          ],
          "parcoords": [
           {
            "line": {
             "colorbar": {
              "outlinewidth": 0,
              "ticks": ""
             }
            },
            "type": "parcoords"
           }
          ],
          "pie": [
           {
            "automargin": true,
            "type": "pie"
           }
          ],
          "scatter": [
           {
            "fillpattern": {
             "fillmode": "overlay",
             "size": 10,
             "solidity": 0.2
            },
            "type": "scatter"
           }
          ],
          "scatter3d": [
           {
            "line": {
             "colorbar": {
              "outlinewidth": 0,
              "ticks": ""
             }
            },
            "marker": {
             "colorbar": {
              "outlinewidth": 0,
              "ticks": ""
             }
            },
            "type": "scatter3d"
           }
          ],
          "scattercarpet": [
           {
            "marker": {
             "colorbar": {
              "outlinewidth": 0,
              "ticks": ""
             }
            },
            "type": "scattercarpet"
           }
          ],
          "scattergeo": [
           {
            "marker": {
             "colorbar": {
              "outlinewidth": 0,
              "ticks": ""
             }
            },
            "type": "scattergeo"
           }
          ],
          "scattergl": [
           {
            "marker": {
             "colorbar": {
              "outlinewidth": 0,
              "ticks": ""
             }
            },
            "type": "scattergl"
           }
          ],
          "scattermapbox": [
           {
            "marker": {
             "colorbar": {
              "outlinewidth": 0,
              "ticks": ""
             }
            },
            "type": "scattermapbox"
           }
          ],
          "scatterpolar": [
           {
            "marker": {
             "colorbar": {
              "outlinewidth": 0,
              "ticks": ""
             }
            },
            "type": "scatterpolar"
           }
          ],
          "scatterpolargl": [
           {
            "marker": {
             "colorbar": {
              "outlinewidth": 0,
              "ticks": ""
             }
            },
            "type": "scatterpolargl"
           }
          ],
          "scatterternary": [
           {
            "marker": {
             "colorbar": {
              "outlinewidth": 0,
              "ticks": ""
             }
            },
            "type": "scatterternary"
           }
          ],
          "surface": [
           {
            "colorbar": {
             "outlinewidth": 0,
             "ticks": ""
            },
            "colorscale": [
             [
              0,
              "#0d0887"
             ],
             [
              0.1111111111111111,
              "#46039f"
             ],
             [
              0.2222222222222222,
              "#7201a8"
             ],
             [
              0.3333333333333333,
              "#9c179e"
             ],
             [
              0.4444444444444444,
              "#bd3786"
             ],
             [
              0.5555555555555556,
              "#d8576b"
             ],
             [
              0.6666666666666666,
              "#ed7953"
             ],
             [
              0.7777777777777778,
              "#fb9f3a"
             ],
             [
              0.8888888888888888,
              "#fdca26"
             ],
             [
              1,
              "#f0f921"
             ]
            ],
            "type": "surface"
           }
          ],
          "table": [
           {
            "cells": {
             "fill": {
              "color": "#EBF0F8"
             },
             "line": {
              "color": "white"
             }
            },
            "header": {
             "fill": {
              "color": "#C8D4E3"
             },
             "line": {
              "color": "white"
             }
            },
            "type": "table"
           }
          ]
         },
         "layout": {
          "annotationdefaults": {
           "arrowcolor": "#2a3f5f",
           "arrowhead": 0,
           "arrowwidth": 1
          },
          "autotypenumbers": "strict",
          "coloraxis": {
           "colorbar": {
            "outlinewidth": 0,
            "ticks": ""
           }
          },
          "colorscale": {
           "diverging": [
            [
             0,
             "#8e0152"
            ],
            [
             0.1,
             "#c51b7d"
            ],
            [
             0.2,
             "#de77ae"
            ],
            [
             0.3,
             "#f1b6da"
            ],
            [
             0.4,
             "#fde0ef"
            ],
            [
             0.5,
             "#f7f7f7"
            ],
            [
             0.6,
             "#e6f5d0"
            ],
            [
             0.7,
             "#b8e186"
            ],
            [
             0.8,
             "#7fbc41"
            ],
            [
             0.9,
             "#4d9221"
            ],
            [
             1,
             "#276419"
            ]
           ],
           "sequential": [
            [
             0,
             "#0d0887"
            ],
            [
             0.1111111111111111,
             "#46039f"
            ],
            [
             0.2222222222222222,
             "#7201a8"
            ],
            [
             0.3333333333333333,
             "#9c179e"
            ],
            [
             0.4444444444444444,
             "#bd3786"
            ],
            [
             0.5555555555555556,
             "#d8576b"
            ],
            [
             0.6666666666666666,
             "#ed7953"
            ],
            [
             0.7777777777777778,
             "#fb9f3a"
            ],
            [
             0.8888888888888888,
             "#fdca26"
            ],
            [
             1,
             "#f0f921"
            ]
           ],
           "sequentialminus": [
            [
             0,
             "#0d0887"
            ],
            [
             0.1111111111111111,
             "#46039f"
            ],
            [
             0.2222222222222222,
             "#7201a8"
            ],
            [
             0.3333333333333333,
             "#9c179e"
            ],
            [
             0.4444444444444444,
             "#bd3786"
            ],
            [
             0.5555555555555556,
             "#d8576b"
            ],
            [
             0.6666666666666666,
             "#ed7953"
            ],
            [
             0.7777777777777778,
             "#fb9f3a"
            ],
            [
             0.8888888888888888,
             "#fdca26"
            ],
            [
             1,
             "#f0f921"
            ]
           ]
          },
          "colorway": [
           "#636efa",
           "#EF553B",
           "#00cc96",
           "#ab63fa",
           "#FFA15A",
           "#19d3f3",
           "#FF6692",
           "#B6E880",
           "#FF97FF",
           "#FECB52"
          ],
          "font": {
           "color": "#2a3f5f"
          },
          "geo": {
           "bgcolor": "white",
           "lakecolor": "white",
           "landcolor": "#E5ECF6",
           "showlakes": true,
           "showland": true,
           "subunitcolor": "white"
          },
          "hoverlabel": {
           "align": "left"
          },
          "hovermode": "closest",
          "mapbox": {
           "style": "light"
          },
          "paper_bgcolor": "white",
          "plot_bgcolor": "#E5ECF6",
          "polar": {
           "angularaxis": {
            "gridcolor": "white",
            "linecolor": "white",
            "ticks": ""
           },
           "bgcolor": "#E5ECF6",
           "radialaxis": {
            "gridcolor": "white",
            "linecolor": "white",
            "ticks": ""
           }
          },
          "scene": {
           "xaxis": {
            "backgroundcolor": "#E5ECF6",
            "gridcolor": "white",
            "gridwidth": 2,
            "linecolor": "white",
            "showbackground": true,
            "ticks": "",
            "zerolinecolor": "white"
           },
           "yaxis": {
            "backgroundcolor": "#E5ECF6",
            "gridcolor": "white",
            "gridwidth": 2,
            "linecolor": "white",
            "showbackground": true,
            "ticks": "",
            "zerolinecolor": "white"
           },
           "zaxis": {
            "backgroundcolor": "#E5ECF6",
            "gridcolor": "white",
            "gridwidth": 2,
            "linecolor": "white",
            "showbackground": true,
            "ticks": "",
            "zerolinecolor": "white"
           }
          },
          "shapedefaults": {
           "line": {
            "color": "#2a3f5f"
           }
          },
          "ternary": {
           "aaxis": {
            "gridcolor": "white",
            "linecolor": "white",
            "ticks": ""
           },
           "baxis": {
            "gridcolor": "white",
            "linecolor": "white",
            "ticks": ""
           },
           "bgcolor": "#E5ECF6",
           "caxis": {
            "gridcolor": "white",
            "linecolor": "white",
            "ticks": ""
           }
          },
          "title": {
           "x": 0.05
          },
          "xaxis": {
           "automargin": true,
           "gridcolor": "white",
           "linecolor": "white",
           "ticks": "",
           "title": {
            "standoff": 15
           },
           "zerolinecolor": "white",
           "zerolinewidth": 2
          },
          "yaxis": {
           "automargin": true,
           "gridcolor": "white",
           "linecolor": "white",
           "ticks": "",
           "title": {
            "standoff": 15
           },
           "zerolinecolor": "white",
           "zerolinewidth": 2
          }
         }
        },
        "title": {
         "text": "<span style='font-size:24; font-family:Times New Roman'>Frequency of Customer Statements</span><br><span style='font-size:14px; font-family:Helvetica'></b></span>"
        },
        "width": 800,
        "xaxis": {
         "title": {
          "text": "Statement Date"
         }
        },
        "yaxis": {
         "title": {
          "text": "Number of Statements Issued"
         }
        }
       }
      }
     },
     "metadata": {},
     "output_type": "display_data"
    }
   ],
   "source": [
    "plot_df = train.reset_index().groupby('S_2')['customer_ID'].nunique().reset_index()\n",
    "fig = go.Figure()\n",
    "fig.add_trace(\n",
    "    go.Scatter(\n",
    "        x=plot_df['S_2'],\n",
    "        y=plot_df['customer_ID'],\n",
    "        mode='markers+lines',\n",
    "        line=dict(color='red', width=3),\n",
    "        hovertemplate=''\n",
    "    )\n",
    ")\n",
    "\n",
    "large_title_format = \"<span style='font-size:24; font-family:Times New Roman'>Frequency of Customer Statements</span>\"\n",
    "small_title_format = \"<span style='font-size:14px; font-family:Helvetica'></b></span>\"\n",
    "\n",
    "fig.update_layout(\n",
    "    title=large_title_format + \"<br>\" + small_title_format,\n",
    "    hovermode='x unified',\n",
    "    width=800,\n",
    "    height=500,\n",
    "    xaxis_title='Statement Date',\n",
    "    yaxis_title='Number of Statements Issued',\n",
    "    font=dict(color='#7b6b59'),\n",
    "    plot_bgcolor='#fff')\n",
    "\n",
    "fig.show()"
   ]
  },
  {
   "cell_type": "code",
   "execution_count": 19,
   "metadata": {},
   "outputs": [
    {
     "data": {
      "image/png": "[encoded data removed]",
      "text/plain": [
       "<Figure size 200x200 with 1 Axes>"
      ]
     },
     "metadata": {},
     "output_type": "display_data"
    }
   ],
   "source": [
    "plt.rcParams.update(plt.rcParamsDefault)\n",
    "\n",
    "fig1 = plt.figure(figsize=(2,2), facecolor='white')\n",
    "\n",
    "ax1 = fig1.add_subplot(1,1,1)\n",
    "ax1.text(\n",
    "    x=0.6, \n",
    "    y=0.8, \n",
    "    s='Key figures of training set', \n",
    "    color='#7B6B59', \n",
    "    fontsize=18, \n",
    "    fontweight='bold', \n",
    "    fontfamily='monospace', \n",
    "    ha='center')\n",
    "\n",
    "ax1.text(\n",
    "    x=0,\n",
    "    y=0.4,\n",
    "    s=\"{:,d}\".format(train.shape[0]),\n",
    "    color='#6082B6',\n",
    "    fontsize=24,\n",
    "    fontweight='bold',\n",
    "    fontfamily='monospace',\n",
    "    ha='center'\n",
    ")\n",
    "ax1.text(\n",
    "    x=0,\n",
    "    y=0.100,\n",
    "    s=\"# of Customers\",\n",
    "    color='#7B6B59',\n",
    "    fontsize=15,\n",
    "    fontweight='light',\n",
    "    fontfamily='monospace',\n",
    "    ha='center'\n",
    ")\n",
    "\n",
    "ax1.text(\n",
    "    x=1.1,\n",
    "    y=0.4,\n",
    "    s=\"{}\".format(train.shape[1]),\n",
    "    color='#6082B6',\n",
    "    fontsize=24,\n",
    "    fontweight='bold',\n",
    "    fontfamily='monospace',\n",
    "    ha='center'\n",
    ")\n",
    "ax1.text(\n",
    "    x=1.1,\n",
    "    y=0.100,\n",
    "    s=\"# of Features\",\n",
    "    color='#7B6B59',\n",
    "    fontsize=15,\n",
    "    fontweight='light',\n",
    "    fontfamily='monospace',\n",
    "    ha='center'\n",
    ")\n",
    "\n",
    "ax1.set_yticklabels('')\n",
    "ax1.tick_params(axis='y', length=0)\n",
    "ax1.tick_params(axis='x', length=0)\n",
    "ax1.set_xticklabels('')\n",
    "\n",
    "for direction in ['top', 'right', 'left', 'bottom']:\n",
    "    ax1.spines[direction].set_visible(False)\n",
    "\n",
    "fig1.subplots_adjust(top=0.9, bottom=0.2, left=0, hspace=1)\n",
    "\n",
    "fig1.patch.set_linewidth(3)\n",
    "fig1.patch.set_edgecolor('#6082B6')\n",
    "fig1.patch.set_facecolor('white')\n",
    "ax1.set_facecolor('white')\n",
    "\n",
    "plt.show()\n",
    "plt.close()"
   ]
  },
  {
   "cell_type": "code",
   "execution_count": 21,
   "metadata": {},
   "outputs": [
    {
     "name": "stdout",
     "output_type": "stream",
     "text": [
      "Total Number of Deliquency Variables: 96\n",
      "Total Number of Spend Variables: 22\n",
      "Total Number of Payment Variables: 3\n",
      "Total Number of Balance Variables: 40\n",
      "Total Number of Risk Variables: 28\n"
     ]
    }
   ],
   "source": [
    "delinquency_features = [c for c in train.columns if c.startswith('D_')]\n",
    "spend_features = [c for c in train.columns if c.startswith('S_')]\n",
    "payment_features = [c for c in train.columns if c.startswith('P_')]\n",
    "balance_features = [c for c in train.columns if c.startswith('B_')]\n",
    "risk_features = [c for c in train.columns if c.startswith('R_')]\n",
    "\n",
    "print(f'Total Number of Deliquency Variables: {len(delinquency_features)}')\n",
    "print(f'Total Number of Spend Variables: {len(spend_features)}')\n",
    "print(f'Total Number of Payment Variables: {len(payment_features)}')\n",
    "print(f'Total Number of Balance Variables: {len(balance_features)}')\n",
    "print(f'Total Number of Risk Variables: {len(risk_features)}')"
   ]
  },
  {
   "cell_type": "code",
   "execution_count": 22,
   "metadata": {},
   "outputs": [
    {
     "data": {
      "application/vnd.plotly.v1+json": {
       "config": {
        "plotlyServerURL": "https://plot.ly"
       },
       "data": [
        {
         "hole": 0.4,
         "labels": [
          "Delinquency",
          "Spend",
          "Payment",
          "Balance",
          "Risk"
         ],
         "marker": {
          "colors": [
           "#a43725",
           "#e0d5bd",
           "#beb29e",
           "#E6b6a4",
           "#c07156"
          ]
         },
         "type": "pie",
         "values": [
          96,
          22,
          3,
          40,
          28
         ]
        }
       ],
       "layout": {
        "font": {
         "color": "#7B6B59"
        },
        "margin": {
         "pad": 0,
         "t": 80
        },
        "showlegend": true,
        "template": {
         "data": {
          "bar": [
           {
            "error_x": {
             "color": "#2a3f5f"
            },
            "error_y": {
             "color": "#2a3f5f"
            },
            "marker": {
             "line": {
              "color": "#E5ECF6",
              "width": 0.5
             },
             "pattern": {
              "fillmode": "overlay",
              "size": 10,
              "solidity": 0.2
             }
            },
            "type": "bar"
           }
          ],
          "barpolar": [
           {
            "marker": {
             "line": {
              "color": "#E5ECF6",
              "width": 0.5
             },
             "pattern": {
              "fillmode": "overlay",
              "size": 10,
              "solidity": 0.2
             }
            },
            "type": "barpolar"
           }
          ],
          "carpet": [
           {
            "aaxis": {
             "endlinecolor": "#2a3f5f",
             "gridcolor": "white",
             "linecolor": "white",
             "minorgridcolor": "white",
             "startlinecolor": "#2a3f5f"
            },
            "baxis": {
             "endlinecolor": "#2a3f5f",
             "gridcolor": "white",
             "linecolor": "white",
             "minorgridcolor": "white",
             "startlinecolor": "#2a3f5f"
            },
            "type": "carpet"
           }
          ],
          "choropleth": [
           {
            "colorbar": {
             "outlinewidth": 0,
             "ticks": ""
            },
            "type": "choropleth"
           }
          ],
          "contour": [
           {
            "colorbar": {
             "outlinewidth": 0,
             "ticks": ""
            },
            "colorscale": [
             [
              0,
              "#0d0887"
             ],
             [
              0.1111111111111111,
              "#46039f"
             ],
             [
              0.2222222222222222,
              "#7201a8"
             ],
             [
              0.3333333333333333,
              "#9c179e"
             ],
             [
              0.4444444444444444,
              "#bd3786"
             ],
             [
              0.5555555555555556,
              "#d8576b"
             ],
             [
              0.6666666666666666,
              "#ed7953"
             ],
             [
              0.7777777777777778,
              "#fb9f3a"
             ],
             [
              0.8888888888888888,
              "#fdca26"
             ],
             [
              1,
              "#f0f921"
             ]
            ],
            "type": "contour"
           }
          ],
          "contourcarpet": [
           {
            "colorbar": {
             "outlinewidth": 0,
             "ticks": ""
            },
            "type": "contourcarpet"
           }
          ],
          "heatmap": [
           {
            "colorbar": {
             "outlinewidth": 0,
             "ticks": ""
            },
            "colorscale": [
             [
              0,
              "#0d0887"
             ],
             [
              0.1111111111111111,
              "#46039f"
             ],
             [
              0.2222222222222222,
              "#7201a8"
             ],
             [
              0.3333333333333333,
              "#9c179e"
             ],
             [
              0.4444444444444444,
              "#bd3786"
             ],
             [
              0.5555555555555556,
              "#d8576b"
             ],
             [
              0.6666666666666666,
              "#ed7953"
             ],
             [
              0.7777777777777778,
              "#fb9f3a"
             ],
             [
              0.8888888888888888,
              "#fdca26"
             ],
             [
              1,
              "#f0f921"
             ]
            ],
            "type": "heatmap"
           }
          ],
          "heatmapgl": [
           {
            "colorbar": {
             "outlinewidth": 0,
             "ticks": ""
            },
            "colorscale": [
             [
              0,
              "#0d0887"
             ],
             [
              0.1111111111111111,
              "#46039f"
             ],
             [
              0.2222222222222222,
              "#7201a8"
             ],
             [
              0.3333333333333333,
              "#9c179e"
             ],
             [
              0.4444444444444444,
              "#bd3786"
             ],
             [
              0.5555555555555556,
              "#d8576b"
             ],
             [
              0.6666666666666666,
              "#ed7953"
             ],
             [
              0.7777777777777778,
              "#fb9f3a"
             ],
             [
              0.8888888888888888,
              "#fdca26"
             ],
             [
              1,
              "#f0f921"
             ]
            ],
            "type": "heatmapgl"
           }
          ],
          "histogram": [
           {
            "marker": {
             "pattern": {
              "fillmode": "overlay",
              "size": 10,
              "solidity": 0.2
             }
            },
            "type": "histogram"
           }
          ],
          "histogram2d": [
           {
            "colorbar": {
             "outlinewidth": 0,
             "ticks": ""
            },
            "colorscale": [
             [
              0,
              "#0d0887"
             ],
             [
              0.1111111111111111,
              "#46039f"
             ],
             [
              0.2222222222222222,
              "#7201a8"
             ],
             [
              0.3333333333333333,
              "#9c179e"
             ],
             [
              0.4444444444444444,
              "#bd3786"
             ],
             [
              0.5555555555555556,
              "#d8576b"
             ],
             [
              0.6666666666666666,
              "#ed7953"
             ],
             [
              0.7777777777777778,
              "#fb9f3a"
             ],
             [
              0.8888888888888888,
              "#fdca26"
             ],
             [
              1,
              "#f0f921"
             ]
            ],
            "type": "histogram2d"
           }
          ],
          "histogram2dcontour": [
           {
            "colorbar": {
             "outlinewidth": 0,
             "ticks": ""
            },
            "colorscale": [
             [
              0,
              "#0d0887"
             ],
             [
              0.1111111111111111,
              "#46039f"
             ],
             [
              0.2222222222222222,
              "#7201a8"
             ],
             [
              0.3333333333333333,
              "#9c179e"
             ],
             [
              0.4444444444444444,
              "#bd3786"
             ],
             [
              0.5555555555555556,
              "#d8576b"
             ],
             [
              0.6666666666666666,
              "#ed7953"
             ],
             [
              0.7777777777777778,
              "#fb9f3a"
             ],
             [
              0.8888888888888888,
              "#fdca26"
             ],
             [
              1,
              "#f0f921"
             ]
            ],
            "type": "histogram2dcontour"
           }
          ],
          "mesh3d": [
           {
            "colorbar": {
             "outlinewidth": 0,
             "ticks": ""
            },
            "type": "mesh3d"
           }
          ],
          "parcoords": [
           {
            "line": {
             "colorbar": {
              "outlinewidth": 0,
              "ticks": ""
             }
            },
            "type": "parcoords"
           }
          ],
          "pie": [
           {
            "automargin": true,
            "type": "pie"
           }
          ],
          "scatter": [
           {
            "fillpattern": {
             "fillmode": "overlay",
             "size": 10,
             "solidity": 0.2
            },
            "type": "scatter"
           }
          ],
          "scatter3d": [
           {
            "line": {
             "colorbar": {
              "outlinewidth": 0,
              "ticks": ""
             }
            },
            "marker": {
             "colorbar": {
              "outlinewidth": 0,
              "ticks": ""
             }
            },
            "type": "scatter3d"
           }
          ],
          "scattercarpet": [
           {
            "marker": {
             "colorbar": {
              "outlinewidth": 0,
              "ticks": ""
             }
            },
            "type": "scattercarpet"
           }
          ],
          "scattergeo": [
           {
            "marker": {
             "colorbar": {
              "outlinewidth": 0,
              "ticks": ""
             }
            },
            "type": "scattergeo"
           }
          ],
          "scattergl": [
           {
            "marker": {
             "colorbar": {
              "outlinewidth": 0,
              "ticks": ""
             }
            },
            "type": "scattergl"
           }
          ],
          "scattermapbox": [
           {
            "marker": {
             "colorbar": {
              "outlinewidth": 0,
              "ticks": ""
             }
            },
            "type": "scattermapbox"
           }
          ],
          "scatterpolar": [
           {
            "marker": {
             "colorbar": {
              "outlinewidth": 0,
              "ticks": ""
             }
            },
            "type": "scatterpolar"
           }
          ],
          "scatterpolargl": [
           {
            "marker": {
             "colorbar": {
              "outlinewidth": 0,
              "ticks": ""
             }
            },
            "type": "scatterpolargl"
           }
          ],
          "scatterternary": [
           {
            "marker": {
             "colorbar": {
              "outlinewidth": 0,
              "ticks": ""
             }
            },
            "type": "scatterternary"
           }
          ],
          "surface": [
           {
            "colorbar": {
             "outlinewidth": 0,
             "ticks": ""
            },
            "colorscale": [
             [
              0,
              "#0d0887"
             ],
             [
              0.1111111111111111,
              "#46039f"
             ],
             [
              0.2222222222222222,
              "#7201a8"
             ],
             [
              0.3333333333333333,
              "#9c179e"
             ],
             [
              0.4444444444444444,
              "#bd3786"
             ],
             [
              0.5555555555555556,
              "#d8576b"
             ],
             [
              0.6666666666666666,
              "#ed7953"
             ],
             [
              0.7777777777777778,
              "#fb9f3a"
             ],
             [
              0.8888888888888888,
              "#fdca26"
             ],
             [
              1,
              "#f0f921"
             ]
            ],
            "type": "surface"
           }
          ],
          "table": [
           {
            "cells": {
             "fill": {
              "color": "#EBF0F8"
             },
             "line": {
              "color": "white"
             }
            },
            "header": {
             "fill": {
              "color": "#C8D4E3"
             },
             "line": {
              "color": "white"
             }
            },
            "type": "table"
           }
          ]
         },
         "layout": {
          "annotationdefaults": {
           "arrowcolor": "#2a3f5f",
           "arrowhead": 0,
           "arrowwidth": 1
          },
          "autotypenumbers": "strict",
          "coloraxis": {
           "colorbar": {
            "outlinewidth": 0,
            "ticks": ""
           }
          },
          "colorscale": {
           "diverging": [
            [
             0,
             "#8e0152"
            ],
            [
             0.1,
             "#c51b7d"
            ],
            [
             0.2,
             "#de77ae"
            ],
            [
             0.3,
             "#f1b6da"
            ],
            [
             0.4,
             "#fde0ef"
            ],
            [
             0.5,
             "#f7f7f7"
            ],
            [
             0.6,
             "#e6f5d0"
            ],
            [
             0.7,
             "#b8e186"
            ],
            [
             0.8,
             "#7fbc41"
            ],
            [
             0.9,
             "#4d9221"
            ],
            [
             1,
             "#276419"
            ]
           ],
           "sequential": [
            [
             0,
             "#0d0887"
            ],
            [
             0.1111111111111111,
             "#46039f"
            ],
            [
             0.2222222222222222,
             "#7201a8"
            ],
            [
             0.3333333333333333,
             "#9c179e"
            ],
            [
             0.4444444444444444,
             "#bd3786"
            ],
            [
             0.5555555555555556,
             "#d8576b"
            ],
            [
             0.6666666666666666,
             "#ed7953"
            ],
            [
             0.7777777777777778,
             "#fb9f3a"
            ],
            [
             0.8888888888888888,
             "#fdca26"
            ],
            [
             1,
             "#f0f921"
            ]
           ],
           "sequentialminus": [
            [
             0,
             "#0d0887"
            ],
            [
             0.1111111111111111,
             "#46039f"
            ],
            [
             0.2222222222222222,
             "#7201a8"
            ],
            [
             0.3333333333333333,
             "#9c179e"
            ],
            [
             0.4444444444444444,
             "#bd3786"
            ],
            [
             0.5555555555555556,
             "#d8576b"
            ],
            [
             0.6666666666666666,
             "#ed7953"
            ],
            [
             0.7777777777777778,
             "#fb9f3a"
            ],
            [
             0.8888888888888888,
             "#fdca26"
            ],
            [
             1,
             "#f0f921"
            ]
           ]
          },
          "colorway": [
           "#636efa",
           "#EF553B",
           "#00cc96",
           "#ab63fa",
           "#FFA15A",
           "#19d3f3",
           "#FF6692",
           "#B6E880",
           "#FF97FF",
           "#FECB52"
          ],
          "font": {
           "color": "#2a3f5f"
          },
          "geo": {
           "bgcolor": "white",
           "lakecolor": "white",
           "landcolor": "#E5ECF6",
           "showlakes": true,
           "showland": true,
           "subunitcolor": "white"
          },
          "hoverlabel": {
           "align": "left"
          },
          "hovermode": "closest",
          "mapbox": {
           "style": "light"
          },
          "paper_bgcolor": "white",
          "plot_bgcolor": "#E5ECF6",
          "polar": {
           "angularaxis": {
            "gridcolor": "white",
            "linecolor": "white",
            "ticks": ""
           },
           "bgcolor": "#E5ECF6",
           "radialaxis": {
            "gridcolor": "white",
            "linecolor": "white",
            "ticks": ""
           }
          },
          "scene": {
           "xaxis": {
            "backgroundcolor": "#E5ECF6",
            "gridcolor": "white",
            "gridwidth": 2,
            "linecolor": "white",
            "showbackground": true,
            "ticks": "",
            "zerolinecolor": "white"
           },
           "yaxis": {
            "backgroundcolor": "#E5ECF6",
            "gridcolor": "white",
            "gridwidth": 2,
            "linecolor": "white",
            "showbackground": true,
            "ticks": "",
            "zerolinecolor": "white"
           },
           "zaxis": {
            "backgroundcolor": "#E5ECF6",
            "gridcolor": "white",
            "gridwidth": 2,
            "linecolor": "white",
            "showbackground": true,
            "ticks": "",
            "zerolinecolor": "white"
           }
          },
          "shapedefaults": {
           "line": {
            "color": "#2a3f5f"
           }
          },
          "ternary": {
           "aaxis": {
            "gridcolor": "white",
            "linecolor": "white",
            "ticks": ""
           },
           "baxis": {
            "gridcolor": "white",
            "linecolor": "white",
            "ticks": ""
           },
           "bgcolor": "#E5ECF6",
           "caxis": {
            "gridcolor": "white",
            "linecolor": "white",
            "ticks": ""
           }
          },
          "title": {
           "x": 0.05
          },
          "xaxis": {
           "automargin": true,
           "gridcolor": "white",
           "linecolor": "white",
           "ticks": "",
           "title": {
            "standoff": 15
           },
           "zerolinecolor": "white",
           "zerolinewidth": 2
          },
          "yaxis": {
           "automargin": true,
           "gridcolor": "white",
           "linecolor": "white",
           "ticks": "",
           "title": {
            "standoff": 15
           },
           "zerolinecolor": "white",
           "zerolinewidth": 2
          }
         }
        },
        "title": {
         "text": "<span style='font-size:30px; font-family:Times New Roman'>Feature Distribution</span><b><span style='font-size:14px; font-family:Helvetica'></b></span>"
        }
       }
      }
     },
     "metadata": {},
     "output_type": "display_data"
    }
   ],
   "source": [
    "labels =['Delinquency', 'Spend', 'Payment', 'Balance', 'Risk']\n",
    "values = [len(delinquency_features), len(spend_features), len(payment_features), len(balance_features), len(risk_features)]\n",
    "\n",
    "# First Plot\n",
    "fig = go.Figure(data=[go.Pie(\n",
    "    labels=labels,\n",
    "    values=values,\n",
    "    hole=.4\n",
    ")])\n",
    "\n",
    "fig.update_traces(\n",
    "    marker=dict(colors=['#a43725', '#e0d5bd', '#beb29e', '#E6b6a4', '#c07156'])\n",
    ")\n",
    "\n",
    "large_title_format = \"<span style='font-size:30px; font-family:Times New Roman'>Feature Distribution</span>\"\n",
    "small_title_format = \"<b><span style='font-size:14px; font-family:Helvetica'></b></span>\"\n",
    "\n",
    "layout = dict(\n",
    "    title = large_title_format + small_title_format,\n",
    "    font =dict(color = '#7B6B59'),\n",
    "    showlegend = True,\n",
    "    margin = dict(t=80, pad=0),\n",
    ")\n",
    "fig['layout'].update(layout)\n",
    "\n",
    "fig.show()"
   ]
  },
  {
   "cell_type": "code",
   "execution_count": 27,
   "metadata": {},
   "outputs": [],
   "source": [
    "titles =['Delinquency' + str(i).split('_')[1] if i.startswith('D') else 'Spend' + str(i).split('_')[1]\n",
    "         if i.startswith('S') else 'Payment' + str(i).split('_')[1]\n",
    "         if i.startswith('P') else 'Balance' + str(i).split('_')[1]\n",
    "         if i.startswith('B') else 'Risk' + str(i).split('_')[1] for i in train.columns[:-1]]\n",
    "\n",
    "cat_cols =['Balance 30', 'Balance 38', 'Delinquency 63', 'Delinquency 64', 'Delinquency 66', 'Delinquency 68',\n",
    "          'Delinquency 114', 'Delinquency 116', 'Delinquency 117', 'Delinquency 120', 'Delinquency 126', 'Target']\n",
    "\n",
    "titles.append('Target')\n",
    "train.columns=titles"
   ]
  },
  {
   "cell_type": "markdown",
   "metadata": {},
   "source": [
    "### __Target Variable Analysis__\n",
    "* Plot the distribution of the target variable (pie chart or bar chart since it's binary).\n",
    "* Calculate the base rate (i.e., what percentage of clients default)."
   ]
  },
  {
   "cell_type": "code",
   "execution_count": 43,
   "metadata": {},
   "outputs": [
    {
     "data": {
      "application/vnd.plotly.v1+json": {
       "config": {
        "plotlyServerURL": "https://plot.ly"
       },
       "data": [
        {
         "marker": {
          "color": "red"
         },
         "name": "Non-Default / Paid",
         "text": "74.11%",
         "textposition": "auto",
         "type": "bar",
         "x": [
          "0"
         ],
         "y": [
          340085
         ]
        },
        {
         "marker": {
          "color": "lightgrey"
         },
         "name": "Default",
         "text": "25.89%",
         "textposition": "auto",
         "type": "bar",
         "x": [
          "1"
         ],
         "y": [
          118828
         ]
        }
       ],
       "layout": {
        "font": {
         "color": "#7B6B59"
        },
        "margin": {
         "pad": 0,
         "t": 80
        },
        "plot_bgcolor": "#fff",
        "template": {
         "data": {
          "bar": [
           {
            "error_x": {
             "color": "#2a3f5f"
            },
            "error_y": {
             "color": "#2a3f5f"
            },
            "marker": {
             "line": {
              "color": "#E5ECF6",
              "width": 0.5
             },
             "pattern": {
              "fillmode": "overlay",
              "size": 10,
              "solidity": 0.2
             }
            },
            "type": "bar"
           }
          ],
          "barpolar": [
           {
            "marker": {
             "line": {
              "color": "#E5ECF6",
              "width": 0.5
             },
             "pattern": {
              "fillmode": "overlay",
              "size": 10,
              "solidity": 0.2
             }
            },
            "type": "barpolar"
           }
          ],
          "carpet": [
           {
            "aaxis": {
             "endlinecolor": "#2a3f5f",
             "gridcolor": "white",
             "linecolor": "white",
             "minorgridcolor": "white",
             "startlinecolor": "#2a3f5f"
            },
            "baxis": {
             "endlinecolor": "#2a3f5f",
             "gridcolor": "white",
             "linecolor": "white",
             "minorgridcolor": "white",
             "startlinecolor": "#2a3f5f"
            },
            "type": "carpet"
           }
          ],
          "choropleth": [
           {
            "colorbar": {
             "outlinewidth": 0,
             "ticks": ""
            },
            "type": "choropleth"
           }
          ],
          "contour": [
           {
            "colorbar": {
             "outlinewidth": 0,
             "ticks": ""
            },
            "colorscale": [
             [
              0,
              "#0d0887"
             ],
             [
              0.1111111111111111,
              "#46039f"
             ],
             [
              0.2222222222222222,
              "#7201a8"
             ],
             [
              0.3333333333333333,
              "#9c179e"
             ],
             [
              0.4444444444444444,
              "#bd3786"
             ],
             [
              0.5555555555555556,
              "#d8576b"
             ],
             [
              0.6666666666666666,
              "#ed7953"
             ],
             [
              0.7777777777777778,
              "#fb9f3a"
             ],
             [
              0.8888888888888888,
              "#fdca26"
             ],
             [
              1,
              "#f0f921"
             ]
            ],
            "type": "contour"
           }
          ],
          "contourcarpet": [
           {
            "colorbar": {
             "outlinewidth": 0,
             "ticks": ""
            },
            "type": "contourcarpet"
           }
          ],
          "heatmap": [
           {
            "colorbar": {
             "outlinewidth": 0,
             "ticks": ""
            },
            "colorscale": [
             [
              0,
              "#0d0887"
             ],
             [
              0.1111111111111111,
              "#46039f"
             ],
             [
              0.2222222222222222,
              "#7201a8"
             ],
             [
              0.3333333333333333,
              "#9c179e"
             ],
             [
              0.4444444444444444,
              "#bd3786"
             ],
             [
              0.5555555555555556,
              "#d8576b"
             ],
             [
              0.6666666666666666,
              "#ed7953"
             ],
             [
              0.7777777777777778,
              "#fb9f3a"
             ],
             [
              0.8888888888888888,
              "#fdca26"
             ],
             [
              1,
              "#f0f921"
             ]
            ],
            "type": "heatmap"
           }
          ],
          "heatmapgl": [
           {
            "colorbar": {
             "outlinewidth": 0,
             "ticks": ""
            },
            "colorscale": [
             [
              0,
              "#0d0887"
             ],
             [
              0.1111111111111111,
              "#46039f"
             ],
             [
              0.2222222222222222,
              "#7201a8"
             ],
             [
              0.3333333333333333,
              "#9c179e"
             ],
             [
              0.4444444444444444,
              "#bd3786"
             ],
             [
              0.5555555555555556,
              "#d8576b"
             ],
             [
              0.6666666666666666,
              "#ed7953"
             ],
             [
              0.7777777777777778,
              "#fb9f3a"
             ],
             [
              0.8888888888888888,
              "#fdca26"
             ],
             [
              1,
              "#f0f921"
             ]
            ],
            "type": "heatmapgl"
           }
          ],
          "histogram": [
           {
            "marker": {
             "pattern": {
              "fillmode": "overlay",
              "size": 10,
              "solidity": 0.2
             }
            },
            "type": "histogram"
           }
          ],
          "histogram2d": [
           {
            "colorbar": {
             "outlinewidth": 0,
             "ticks": ""
            },
            "colorscale": [
             [
              0,
              "#0d0887"
             ],
             [
              0.1111111111111111,
              "#46039f"
             ],
             [
              0.2222222222222222,
              "#7201a8"
             ],
             [
              0.3333333333333333,
              "#9c179e"
             ],
             [
              0.4444444444444444,
              "#bd3786"
             ],
             [
              0.5555555555555556,
              "#d8576b"
             ],
             [
              0.6666666666666666,
              "#ed7953"
             ],
             [
              0.7777777777777778,
              "#fb9f3a"
             ],
             [
              0.8888888888888888,
              "#fdca26"
             ],
             [
              1,
              "#f0f921"
             ]
            ],
            "type": "histogram2d"
           }
          ],
          "histogram2dcontour": [
           {
            "colorbar": {
             "outlinewidth": 0,
             "ticks": ""
            },
            "colorscale": [
             [
              0,
              "#0d0887"
             ],
             [
              0.1111111111111111,
              "#46039f"
             ],
             [
              0.2222222222222222,
              "#7201a8"
             ],
             [
              0.3333333333333333,
              "#9c179e"
             ],
             [
              0.4444444444444444,
              "#bd3786"
             ],
             [
              0.5555555555555556,
              "#d8576b"
             ],
             [
              0.6666666666666666,
              "#ed7953"
             ],
             [
              0.7777777777777778,
              "#fb9f3a"
             ],
             [
              0.8888888888888888,
              "#fdca26"
             ],
             [
              1,
              "#f0f921"
             ]
            ],
            "type": "histogram2dcontour"
           }
          ],
          "mesh3d": [
           {
            "colorbar": {
             "outlinewidth": 0,
             "ticks": ""
            },
            "type": "mesh3d"
           }
          ],
          "parcoords": [
           {
            "line": {
             "colorbar": {
              "outlinewidth": 0,
              "ticks": ""
             }
            },
            "type": "parcoords"
           }
          ],
          "pie": [
           {
            "automargin": true,
            "type": "pie"
           }
          ],
          "scatter": [
           {
            "fillpattern": {
             "fillmode": "overlay",
             "size": 10,
             "solidity": 0.2
            },
            "type": "scatter"
           }
          ],
          "scatter3d": [
           {
            "line": {
             "colorbar": {
              "outlinewidth": 0,
              "ticks": ""
             }
            },
            "marker": {
             "colorbar": {
              "outlinewidth": 0,
              "ticks": ""
             }
            },
            "type": "scatter3d"
           }
          ],
          "scattercarpet": [
           {
            "marker": {
             "colorbar": {
              "outlinewidth": 0,
              "ticks": ""
             }
            },
            "type": "scattercarpet"
           }
          ],
          "scattergeo": [
           {
            "marker": {
             "colorbar": {
              "outlinewidth": 0,
              "ticks": ""
             }
            },
            "type": "scattergeo"
           }
          ],
          "scattergl": [
           {
            "marker": {
             "colorbar": {
              "outlinewidth": 0,
              "ticks": ""
             }
            },
            "type": "scattergl"
           }
          ],
          "scattermapbox": [
           {
            "marker": {
             "colorbar": {
              "outlinewidth": 0,
              "ticks": ""
             }
            },
            "type": "scattermapbox"
           }
          ],
          "scatterpolar": [
           {
            "marker": {
             "colorbar": {
              "outlinewidth": 0,
              "ticks": ""
             }
            },
            "type": "scatterpolar"
           }
          ],
          "scatterpolargl": [
           {
            "marker": {
             "colorbar": {
              "outlinewidth": 0,
              "ticks": ""
             }
            },
            "type": "scatterpolargl"
           }
          ],
          "scatterternary": [
           {
            "marker": {
             "colorbar": {
              "outlinewidth": 0,
              "ticks": ""
             }
            },
            "type": "scatterternary"
           }
          ],
          "surface": [
           {
            "colorbar": {
             "outlinewidth": 0,
             "ticks": ""
            },
            "colorscale": [
             [
              0,
              "#0d0887"
             ],
             [
              0.1111111111111111,
              "#46039f"
             ],
             [
              0.2222222222222222,
              "#7201a8"
             ],
             [
              0.3333333333333333,
              "#9c179e"
             ],
             [
              0.4444444444444444,
              "#bd3786"
             ],
             [
              0.5555555555555556,
              "#d8576b"
             ],
             [
              0.6666666666666666,
              "#ed7953"
             ],
             [
              0.7777777777777778,
              "#fb9f3a"
             ],
             [
              0.8888888888888888,
              "#fdca26"
             ],
             [
              1,
              "#f0f921"
             ]
            ],
            "type": "surface"
           }
          ],
          "table": [
           {
            "cells": {
             "fill": {
              "color": "#EBF0F8"
             },
             "line": {
              "color": "white"
             }
            },
            "header": {
             "fill": {
              "color": "#C8D4E3"
             },
             "line": {
              "color": "white"
             }
            },
            "type": "table"
           }
          ]
         },
         "layout": {
          "annotationdefaults": {
           "arrowcolor": "#2a3f5f",
           "arrowhead": 0,
           "arrowwidth": 1
          },
          "autotypenumbers": "strict",
          "coloraxis": {
           "colorbar": {
            "outlinewidth": 0,
            "ticks": ""
           }
          },
          "colorscale": {
           "diverging": [
            [
             0,
             "#8e0152"
            ],
            [
             0.1,
             "#c51b7d"
            ],
            [
             0.2,
             "#de77ae"
            ],
            [
             0.3,
             "#f1b6da"
            ],
            [
             0.4,
             "#fde0ef"
            ],
            [
             0.5,
             "#f7f7f7"
            ],
            [
             0.6,
             "#e6f5d0"
            ],
            [
             0.7,
             "#b8e186"
            ],
            [
             0.8,
             "#7fbc41"
            ],
            [
             0.9,
             "#4d9221"
            ],
            [
             1,
             "#276419"
            ]
           ],
           "sequential": [
            [
             0,
             "#0d0887"
            ],
            [
             0.1111111111111111,
             "#46039f"
            ],
            [
             0.2222222222222222,
             "#7201a8"
            ],
            [
             0.3333333333333333,
             "#9c179e"
            ],
            [
             0.4444444444444444,
             "#bd3786"
            ],
            [
             0.5555555555555556,
             "#d8576b"
            ],
            [
             0.6666666666666666,
             "#ed7953"
            ],
            [
             0.7777777777777778,
             "#fb9f3a"
            ],
            [
             0.8888888888888888,
             "#fdca26"
            ],
            [
             1,
             "#f0f921"
            ]
           ],
           "sequentialminus": [
            [
             0,
             "#0d0887"
            ],
            [
             0.1111111111111111,
             "#46039f"
            ],
            [
             0.2222222222222222,
             "#7201a8"
            ],
            [
             0.3333333333333333,
             "#9c179e"
            ],
            [
             0.4444444444444444,
             "#bd3786"
            ],
            [
             0.5555555555555556,
             "#d8576b"
            ],
            [
             0.6666666666666666,
             "#ed7953"
            ],
            [
             0.7777777777777778,
             "#fb9f3a"
            ],
            [
             0.8888888888888888,
             "#fdca26"
            ],
            [
             1,
             "#f0f921"
            ]
           ]
          },
          "colorway": [
           "#636efa",
           "#EF553B",
           "#00cc96",
           "#ab63fa",
           "#FFA15A",
           "#19d3f3",
           "#FF6692",
           "#B6E880",
           "#FF97FF",
           "#FECB52"
          ],
          "font": {
           "color": "#2a3f5f"
          },
          "geo": {
           "bgcolor": "white",
           "lakecolor": "white",
           "landcolor": "#E5ECF6",
           "showlakes": true,
           "showland": true,
           "subunitcolor": "white"
          },
          "hoverlabel": {
           "align": "left"
          },
          "hovermode": "closest",
          "mapbox": {
           "style": "light"
          },
          "paper_bgcolor": "white",
          "plot_bgcolor": "#E5ECF6",
          "polar": {
           "angularaxis": {
            "gridcolor": "white",
            "linecolor": "white",
            "ticks": ""
           },
           "bgcolor": "#E5ECF6",
           "radialaxis": {
            "gridcolor": "white",
            "linecolor": "white",
            "ticks": ""
           }
          },
          "scene": {
           "xaxis": {
            "backgroundcolor": "#E5ECF6",
            "gridcolor": "white",
            "gridwidth": 2,
            "linecolor": "white",
            "showbackground": true,
            "ticks": "",
            "zerolinecolor": "white"
           },
           "yaxis": {
            "backgroundcolor": "#E5ECF6",
            "gridcolor": "white",
            "gridwidth": 2,
            "linecolor": "white",
            "showbackground": true,
            "ticks": "",
            "zerolinecolor": "white"
           },
           "zaxis": {
            "backgroundcolor": "#E5ECF6",
            "gridcolor": "white",
            "gridwidth": 2,
            "linecolor": "white",
            "showbackground": true,
            "ticks": "",
            "zerolinecolor": "white"
           }
          },
          "shapedefaults": {
           "line": {
            "color": "#2a3f5f"
           }
          },
          "ternary": {
           "aaxis": {
            "gridcolor": "white",
            "linecolor": "white",
            "ticks": ""
           },
           "baxis": {
            "gridcolor": "white",
            "linecolor": "white",
            "ticks": ""
           },
           "bgcolor": "#E5ECF6",
           "caxis": {
            "gridcolor": "white",
            "linecolor": "white",
            "ticks": ""
           }
          },
          "title": {
           "x": 0.05
          },
          "xaxis": {
           "automargin": true,
           "gridcolor": "white",
           "linecolor": "white",
           "ticks": "",
           "title": {
            "standoff": 15
           },
           "zerolinecolor": "white",
           "zerolinewidth": 2
          },
          "yaxis": {
           "automargin": true,
           "gridcolor": "white",
           "linecolor": "white",
           "ticks": "",
           "title": {
            "standoff": 15
           },
           "zerolinecolor": "white",
           "zerolinewidth": 2
          }
         }
        },
        "title": {
         "text": "<span style = 'font-size:30px; font-family:Times New Roman'> Target Distribution</span><b><span style = 'font-size:14px; font-family:Helvetica'></b></span>"
        },
        "xaxis": {
         "showticklabels": false
        }
       }
      }
     },
     "metadata": {},
     "output_type": "display_data"
    }
   ],
   "source": [
    "# Count occurences of each target value\n",
    "target_counts = train['Target'].value_counts()\n",
    "total_counts = len(train)\n",
    "\n",
    "# Calculate percentages\n",
    "percentages = (target_counts / total_counts * 100).round(2)\n",
    "\n",
    "# Create the bar plot\n",
    "fig =go.Figure()\n",
    "\n",
    "# Add bar plot for target distribution\n",
    "# Customizing the legend entries using the 'name' attr\n",
    "fig.add_trace(go.Bar(\n",
    "    x=['0'],\n",
    "    y=[target_counts[0]],\n",
    "    text=f'{percentages[0]}%',\n",
    "    textposition='auto',\n",
    "    marker_color='red',\n",
    "    name='Non-Default / Paid'\n",
    "))\n",
    "\n",
    "fig.add_trace(go.Bar(\n",
    "    x=['1'],\n",
    "    y=[target_counts[1]],\n",
    "    text=f'{percentages[1]}%',\n",
    "    textposition='auto',\n",
    "    marker_color='lightgrey',\n",
    "    name='Default'\n",
    "))\n",
    "\n",
    "large_title_format = \"<span style = 'font-size:30px; font-family:Times New Roman'> Target Distribution</span>\"\n",
    "small_title_format = \"<b><span style = 'font-size:14px; font-family:Helvetica'></b></span>\"\n",
    "\n",
    "layout = dict(\n",
    "    title = large_title_format + small_title_format,\n",
    "    font = dict(color = '#7B6B59'),\n",
    "    xaxis = dict(showticklabels =False),\n",
    "    margin = dict(t=80, pad=0),\n",
    "    plot_bgcolor = '#fff'\n",
    ")\n",
    "fig['layout'].update(layout)\n",
    "\n",
    "fig.show()"
   ]
  },
  {
   "cell_type": "code",
   "execution_count": 37,
   "metadata": {},
   "outputs": [
    {
     "data": {
      "text/plain": [
       "190"
      ]
     },
     "execution_count": 37,
     "metadata": {},
     "output_type": "execute_result"
    }
   ],
   "source": []
  },
  {
   "cell_type": "code",
   "execution_count": null,
   "metadata": {},
   "outputs": [],
   "source": []
  }
 ],
 "metadata": {
  "kernelspec": {
   "display_name": "Python 3",
   "language": "python",
   "name": "python3"
  },
  "language_info": {
   "codemirror_mode": {
    "name": "ipython",
    "version": 3
   },
   "file_extension": ".py",
   "mimetype": "text/x-python",
   "name": "python",
   "nbconvert_exporter": "python",
   "pygments_lexer": "ipython3",
   "version": "3.11.7"
  }
 },
 "nbformat": 4,
 "nbformat_minor": 2
}
